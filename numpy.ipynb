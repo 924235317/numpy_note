{
 "cells": [
  {
   "cell_type": "markdown",
   "metadata": {},
   "source": [
    "# Numpy学习笔记"
   ]
  },
  {
   "cell_type": "markdown",
   "metadata": {},
   "source": [
    "## ndarray\n",
    "ndarray是numpy中的多维数组对象，是一个快速而灵活的大数据集容器。用来执行一些数据运算，其语法跟标量元素之间的运算一样\n",
    "### 1.创建ndarray  \n",
    "创建方法很简单，用以下函数即可创建:  \n",
    "\n",
    "**array** - 创建一个ndarray，可通过dtype指定数据格式，可以通过输入数据推断数据格式  \n",
    "**asarray** - 将输入数据转为ndarray  \n",
    "**arange** - 生成一个range范围内的递增数组  \n",
    "**ones, zeros, eye** - 生成全1、全0、单位矩阵  \n",
    "**empty** - 生成空矩阵，不初始化\n"
   ]
  },
  {
   "cell_type": "code",
   "execution_count": 1,
   "metadata": {},
   "outputs": [],
   "source": [
    "import numpy as np"
   ]
  },
  {
   "cell_type": "code",
   "execution_count": 2,
   "metadata": {},
   "outputs": [
    {
     "name": "stdout",
     "output_type": "stream",
     "text": [
      "array: \n",
      " [ 1.  2.  3.]\n",
      "asarray: \n",
      " [ 1.  2.  3.]\n",
      "arange: \n",
      " [ 1.  2.  3.  4.  5.  6.  7.  8.  9.]\n",
      "zeros: \n",
      " [[[ 0.  0.  0.]\n",
      "  [ 0.  0.  0.]]]\n",
      "ones: \n",
      " [[[ 1.  1.  1.]\n",
      "  [ 1.  1.  1.]]]\n",
      "eye: \n",
      " [[ 1.  0.  0.]\n",
      " [ 0.  1.  0.]\n",
      " [ 0.  0.  1.]]\n",
      "empty: \n",
      " [[[ 1.  1.  1.]\n",
      "  [ 1.  1.  1.]]]\n"
     ]
    }
   ],
   "source": [
    "a = [1,2,3]\n",
    "print(\"array: \\n\", np.array(a, dtype=np.float32))\n",
    "print(\"asarray: \\n\", np.asarray(a, dtype = np.float64))\n",
    "print(\"arange: \\n\", np.arange(1, 10,dtype = np.float64))\n",
    "print(\"zeros: \\n\", np.zeros([1,2,3],dtype = np.float64))\n",
    "print(\"ones: \\n\", np.ones([1,2,3],dtype = np.float64))\n",
    "print(\"eye: \\n\", np.eye(3, dtype = np.float64))\n",
    "print(\"empty: \\n\", np.empty([1,2,3],dtype = np.float64))"
   ]
  },
  {
   "cell_type": "markdown",
   "metadata": {},
   "source": [
    "# 2.数据类型  \n",
    "numpy的数据类型一共有一下几种:  \n",
    "![image](./numpy_datatype.jpeg)  \n",
    "除了上面的以外，还有```string_```或```str_```，对应着字符串，类型代码为S。  \n",
    "如果转换失败了，会抛出```TypeError```异常。"
   ]
  },
  {
   "cell_type": "code",
   "execution_count": 3,
   "metadata": {},
   "outputs": [
    {
     "name": "stdout",
     "output_type": "stream",
     "text": [
      "float32\n",
      "[['1.0' '2.0' '3.0']\n",
      " ['1.0' '2.0' '3.0']\n",
      " ['1.0' '2.0' '3.0']]\n"
     ]
    }
   ],
   "source": [
    "origin_arr = np.array([a, a, a], dtype=np.float32)\n",
    "print(origin_arr.dtype)\n",
    "\n",
    "#转换np.float32类型为字符串类型\n",
    "print(origin_arr.astype(np.str_))\n"
   ]
  },
  {
   "cell_type": "markdown",
   "metadata": {},
   "source": [
    "## 3. 数组和标量的运算  \n",
    "维度相等的数组进行标量运算，则标量运算都会应用到元素级，也就是说，对应位置的元素进行标量运算。不同维度的数组之间的运算称为**广播（broadcast）**，后面再说……"
   ]
  },
  {
   "cell_type": "code",
   "execution_count": 4,
   "metadata": {},
   "outputs": [
    {
     "name": "stdout",
     "output_type": "stream",
     "text": [
      "[[ 1.  4.  9.]\n",
      " [ 1.  4.  9.]\n",
      " [ 1.  4.  9.]]\n",
      "[[ 10.  10.  10.]\n",
      " [  1.   2.   3.]\n",
      " [  1.   2.   3.]]\n"
     ]
    }
   ],
   "source": [
    "# 1*1, 2*2, 3*3\n",
    "arr = origin_arr.copy()\n",
    "print(origin_arr * origin_arr)\n",
    "\n",
    "#该操作会广播至a[0]中的每个元素\n",
    "arr[0] = 10\n",
    "print(arr)"
   ]
  },
  {
   "cell_type": "markdown",
   "metadata": {},
   "source": [
    "## 3.基本的切片和索引  \n",
    "numpy里的```ndarray```和python中的list很相似，但是在切片的时候，全部是$\\underline{引用，没有拷贝}$，如果想用拷贝，请使用```copy```函数，例子如下:"
   ]
  },
  {
   "cell_type": "code",
   "execution_count": 5,
   "metadata": {},
   "outputs": [
    {
     "name": "stdout",
     "output_type": "stream",
     "text": [
      "[ 3.  4.  5.]\n",
      "[  1.   2.   3.  30.   5.   6.   7.   8.   9.]\n",
      "[  3.  30.   5.]\n"
     ]
    }
   ],
   "source": [
    "#切片\n",
    "arr = np.arange(1, 10, dtype=np.float32)\n",
    "print(arr[2:5])#简单的切片示例\n",
    "\n",
    "#切片是引用\n",
    "x = arr[2:5]\n",
    "x[1] = 30\n",
    "\n",
    "print(arr)\n",
    "print(x)"
   ]
  },
  {
   "cell_type": "code",
   "execution_count": 6,
   "metadata": {},
   "outputs": [
    {
     "name": "stdout",
     "output_type": "stream",
     "text": [
      "[[0 0 0]\n",
      " [1 1 1]\n",
      " [2 2 2]]\n",
      "1\n",
      "1\n",
      "2\n",
      "arr3d: \n",
      " [[[ 1  2  3]\n",
      "  [ 4  5  6]]\n",
      "\n",
      " [[ 7  8  9]\n",
      "  [10 11 12]]]\n",
      "x: \n",
      " [[[43 43 43]\n",
      "  [43 43 43]]\n",
      "\n",
      " [[ 7  8  9]\n",
      "  [10 11 12]]]\n",
      "arr3d[1,1]:\n",
      " [10 11 12]\n"
     ]
    }
   ],
   "source": [
    "#索引\n",
    "arr2d = np.array([[0]*3, [1]*3, [2]*3])\n",
    "#第1行，第一列\n",
    "print(arr2d)\n",
    "print(arr2d[1][1])\n",
    "print(arr2d[1, 1])\n",
    "\n",
    "print(arr2d[2,1])\n",
    "\n",
    "#3d 2*2*3\n",
    "arr3d = np.array([[[1,2,3],[4,5,6]],[[7,8,9],[10,11,12]]])\n",
    "print(\"arr3d: \\n\", arr3d)\n",
    "#广播演示\n",
    "x = arr3d.copy()\n",
    "x[0] = 43\n",
    "print(\"x: \\n\", x)\n",
    "print(\"arr3d[1,1]:\\n\", arr3d[1,1])"
   ]
  },
  {
   "cell_type": "markdown",
   "metadata": {},
   "source": [
    "### 切片索引  \n",
    "切片索引可以很好的找到某一特定维度或特定范围内的所有元素，而不用像python中那样用循环查找,可以非常方便地选出区域"
   ]
  },
  {
   "cell_type": "code",
   "execution_count": 7,
   "metadata": {},
   "outputs": [
    {
     "name": "stdout",
     "output_type": "stream",
     "text": [
      "arr3d:\n",
      " [[[ 1  2  3]\n",
      "  [ 4  5  6]]\n",
      "\n",
      " [[ 7  8  9]\n",
      "  [10 11 12]]]\n",
      "arr3d[:, 1, 1:]:\n",
      " [[[ 8  9]\n",
      "  [11 12]]]\n"
     ]
    }
   ],
   "source": [
    "#选出arr3d中\n",
    "print('arr3d:\\n',arr3d)\n",
    "print('arr3d[:, 1, 1:]:\\n', arr3d[1:, :, 1:])"
   ]
  },
  {
   "cell_type": "markdown",
   "metadata": {},
   "source": [
    "### 布尔索引  \n",
    "numpy中可以使用```array > n```这种方法将数组转化为boolean形式的数组，当然，操作符可以是```==, >=, <=, !=,  and, or, not, &, |, ~```,通过boolean数组b，可以使用```array[b]```来返回array中所有b中为True的位置上的元素。（其实这个概念不太好解释，还是看代码）"
   ]
  },
  {
   "cell_type": "code",
   "execution_count": 17,
   "metadata": {},
   "outputs": [
    {
     "name": "stdout",
     "output_type": "stream",
     "text": [
      "arr3d:\n",
      " [[[ 1  2  3]\n",
      "  [ 4  5  6]]\n",
      "\n",
      " [[ 7  8  9]\n",
      "  [10 11 12]]]\n",
      "\n",
      "\n",
      "b > 2:\n",
      " [[[False False False]\n",
      "  [False False False]]\n",
      "\n",
      " [[False False False]\n",
      "  [False  True  True]]]\n",
      "\n",
      "\n",
      "arr3d[b]:\n",
      " [11 12]\n"
     ]
    }
   ],
   "source": [
    "print(\"arr3d:\\n\",arr3d)\n",
    "\n",
    "b = arr3d > 10\n",
    "print(\"\\n\\nb > 2:\\n\", b)\n",
    "print(\"\\n\\narr3d[b]:\\n\", arr3d[b])"
   ]
  },
  {
   "cell_type": "markdown",
   "metadata": {},
   "source": [
    "通过boolean数组进行变量赋值也是可以的"
   ]
  },
  {
   "cell_type": "code",
   "execution_count": 18,
   "metadata": {},
   "outputs": [
    {
     "name": "stdout",
     "output_type": "stream",
     "text": [
      "arr3d_copy:\n",
      " [[[  1   2   3]\n",
      "  [  4   5   6]]\n",
      "\n",
      " [[  7   8   9]\n",
      "  [ 10 100 100]]]\n"
     ]
    }
   ],
   "source": [
    "arr3d_copy = arr3d.copy()\n",
    "arr3d_copy[b] = 100\n",
    "print('arr3d_copy:\\n', arr3d_copy)"
   ]
  },
  {
   "cell_type": "code",
   "execution_count": null,
   "metadata": {},
   "outputs": [],
   "source": []
  }
 ],
 "metadata": {
  "kernelspec": {
   "display_name": "Python 3",
   "language": "python",
   "name": "python3"
  },
  "language_info": {
   "codemirror_mode": {
    "name": "ipython",
    "version": 3
   },
   "file_extension": ".py",
   "mimetype": "text/x-python",
   "name": "python",
   "nbconvert_exporter": "python",
   "pygments_lexer": "ipython3",
   "version": "3.4.3"
  }
 },
 "nbformat": 4,
 "nbformat_minor": 2
}
